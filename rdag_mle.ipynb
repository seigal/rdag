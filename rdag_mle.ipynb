{
 "cells": [
  {
   "cell_type": "markdown",
   "id": "b959582c",
   "metadata": {},
   "source": [
    "# rdag_mle: code to generate RDAGs, to sample from their distribution, and to compute MLEs"
   ]
  },
  {
   "cell_type": "code",
   "execution_count": null,
   "id": "9fc78f70",
   "metadata": {},
   "outputs": [],
   "source": [
    "import numpy as np\n",
    "import networkx as nx\n",
    "import random"
   ]
  },
  {
   "cell_type": "code",
   "execution_count": null,
   "id": "b89af603",
   "metadata": {},
   "outputs": [],
   "source": [
    "# setting parameters\n",
    "n_vertices = 10\n",
    "density = 0.5\n",
    "n_colours = 5\n",
    "n_samples = 100"
   ]
  },
  {
   "cell_type": "code",
   "execution_count": null,
   "id": "5e14a462",
   "metadata": {},
   "outputs": [],
   "source": [
    "# build DAG \n",
    "Gu = nx.erdos_renyi_graph(n_vertices,density)\n",
    "G = nx.DiGraph()\n",
    "G.add_nodes_from(Gu)\n",
    "G.add_edges_from(Gu.edges())\n",
    "G = G.reverse() # make edges point from higher index to lower index "
   ]
  },
  {
   "cell_type": "code",
   "execution_count": null,
   "id": "5ecf7afd",
   "metadata": {},
   "outputs": [],
   "source": [
    "# assign colours (integers) to edges\n",
    "for (u, v) in G.edges():\n",
    "    G.edges[u,v]['colour'] = random.randint(0,n_colours-1)"
   ]
  },
  {
   "cell_type": "code",
   "execution_count": null,
   "id": "db5dfc98",
   "metadata": {},
   "outputs": [],
   "source": [
    "# sample edge weights uniformly from [-1, -0.25] cup [0.25, 1]\n",
    "us = np.random.uniform(-0.75,0.75,n_colours)\n",
    "us[us > 0] = us[us > 0] + 0.25\n",
    "us[us < 0] = us[us < 0] - 0.25\n",
    "weights = us"
   ]
  },
  {
   "cell_type": "code",
   "execution_count": null,
   "id": "e84d0e0e",
   "metadata": {},
   "outputs": [],
   "source": [
    "# assign weights to colours\n",
    "for (u, v) in G.edges():\n",
    "    G.edges[u,v]['weight'] = weights[G.edges[u,v]['colour']]\n",
    "G.edges.data()"
   ]
  },
  {
   "cell_type": "code",
   "execution_count": null,
   "id": "7426265a",
   "metadata": {},
   "outputs": [],
   "source": [
    "# plot the graph with edge labels\n",
    "pos = nx.circular_layout(G) \n",
    "labels = nx.get_edge_attributes(G,'colour')\n",
    "nx.draw(G, pos, with_labels = True)\n",
    "nx.draw_networkx_edge_labels(G, pos, labels)\n",
    "list(G)"
   ]
  },
  {
   "cell_type": "code",
   "execution_count": null,
   "id": "c7b54cd7",
   "metadata": {},
   "outputs": [],
   "source": [
    "# find parent relationship colours for each vertex\n",
    "prc = []\n",
    "for u in G.nodes():\n",
    "    prcu = []\n",
    "    for v in G.nodes():\n",
    "        if (v,u) in G.edges():\n",
    "            prcu.append(G.edges[v,u][\"colour\"])\n",
    "    prc.append(prcu)"
   ]
  },
  {
   "cell_type": "code",
   "execution_count": null,
   "id": "34ef06e9",
   "metadata": {},
   "outputs": [],
   "source": [
    "# colour the vertices so that the colouring is compatible\n",
    "# assign weights to node colours \n",
    "K = nx.complete_graph(n_vertices)\n",
    "H = nx.empty_graph(n_vertices)\n",
    "for (u,v) in K.edges():\n",
    "    if bool(set(prc[u]) & set(prc[v])):\n",
    "        H.add_edge(u,v)\n",
    "list_of_cc = sorted(nx.connected_components(H), key=len, reverse=True)\n",
    "node_weights = np.random.uniform(0,1,len(list_of_cc))\n",
    "for u in G.nodes():\n",
    "    for c in range(len(list_of_cc)):\n",
    "        if u in list_of_cc[c]:\n",
    "            G.nodes[u][\"colour\"] = c\n",
    "            G.nodes[u][\"weight\"] = node_weights[c]"
   ]
  },
  {
   "cell_type": "code",
   "execution_count": null,
   "id": "092f4926",
   "metadata": {},
   "outputs": [],
   "source": [
    "# generate lambda and omega matrices\n",
    "mat = nx.adjacency_matrix(G,range(n_vertices))\n",
    "lamb = mat.todense().T\n",
    "omega = np.zeros((n_vertices,n_vertices))\n",
    "for i in range(n_vertices):\n",
    "    omega[i,i] = G.nodes[i][\"weight\"]\n",
    "ide = np.identity(n_vertices)\n",
    "idlam = np.linalg.inv(ide-lamb)\n",
    "cov1 = np.dot(idlam,omega)\n",
    "cov = np.dot(cov1, idlam.T)"
   ]
  },
  {
   "cell_type": "code",
   "execution_count": null,
   "id": "a28140da",
   "metadata": {},
   "outputs": [],
   "source": [
    "# generate sample data\n",
    "sample_data = np.zeros((n_vertices,n_samples))\n",
    "for i in range(n_samples):\n",
    "    sample_data[:,i] = np.random.multivariate_normal(np.zeros(n_vertices),cov)\n",
    "sample_data.shape"
   ]
  },
  {
   "cell_type": "code",
   "execution_count": null,
   "id": "a6271447",
   "metadata": {},
   "outputs": [],
   "source": [
    "# build augmented sample matrices, one for each vertex colour\n",
    "MY0 = [];\n",
    "MY = [];\n",
    "betas = [];\n",
    "for s in range(len(list_of_cc)):\n",
    "    alpha = list_of_cc[s] # the vertices of colour s \n",
    "    alpha_vector = np.array(list(alpha))\n",
    "    MYs0 = [];\n",
    "    for u in alpha:\n",
    "        MYs0 = np.concatenate((MYs0, sample_data[u,:]))\n",
    "    MY0.append(MYs0)\n",
    "    beta_multiset = [];\n",
    "    for u in alpha:\n",
    "        for v in G.nodes():\n",
    "            if (v,u) in G.edges():\n",
    "                beta_multiset.append(G.edges[v,u]['colour'])\n",
    "    beta = set(beta_multiset)\n",
    "    betas.append(beta)\n",
    "    beta_vector = np.array(list(beta))\n",
    "    MYsblocks = [];\n",
    "    for u in alpha:\n",
    "        MYsblock = np.zeros((len(beta),n_samples))\n",
    "        for v in G.nodes():\n",
    "            if (v,u) in G.edges():\n",
    "                MYsblock[np.where(beta_vector == G.edges[v,u]['colour'])[0],:] += sample_data[v,:]\n",
    "        MYsblocks.append(MYsblock)  \n",
    "    MYs = np.zeros((len(beta),0));\n",
    "    for i in range(len(alpha)):\n",
    "        MYs = np.concatenate((MYs,MYsblocks[i]),axis=1)\n",
    "    MY.append(MYs)"
   ]
  },
  {
   "cell_type": "code",
   "execution_count": null,
   "id": "7a34f9b6",
   "metadata": {},
   "outputs": [],
   "source": [
    "# compute the RDAG MLE\n",
    "node_weights_hat = np.zeros(len(list_of_cc));\n",
    "weights_hat = np.zeros(n_colours);\n",
    "for s in range(len(list_of_cc)):\n",
    "    beta = betas[s]\n",
    "    beta_vector = np.array(list(beta))\n",
    "    b = MY0[s];\n",
    "    if MY[s].shape[0] > 0:\n",
    "        A = MY[s].T;\n",
    "        pinvA = np.linalg.pinv(A)\n",
    "        weights_beta_s = np.dot(pinvA,b)\n",
    "        weights_hat[beta_vector] = weights_beta_s\n",
    "        diff = np.linalg.norm(np.dot(A,weights_beta_s)-b)**2\n",
    "    else:\n",
    "        diff = np.linalg.norm(b)**2\n",
    "    alpha_s = len(list_of_cc[s])\n",
    "    weights_alpha_s = (1/(alpha_s*n_samples))*diff\n",
    "    node_weights_hat[s] = weights_alpha_s"
   ]
  },
  {
   "cell_type": "code",
   "execution_count": null,
   "id": "958abf3d",
   "metadata": {},
   "outputs": [],
   "source": [
    "# compute uncoloured DAG MLE\n",
    "usual_DAG_node_weights = np.zeros(n_vertices)\n",
    "usual_DAG_weights = [] \n",
    "for u in G.nodes():\n",
    "    b = sample_data[u,:]\n",
    "    AT = np.zeros((0,n_samples))\n",
    "    for v in G.nodes():\n",
    "            if (v,u) in G.edges():\n",
    "                AT = np.vstack((AT, sample_data[v,:]))\n",
    "    if AT.shape[0] > 0:\n",
    "        A = AT.T;\n",
    "        pinvA = np.linalg.pinv(A)\n",
    "        weights_beta_s = np.dot(pinvA,b)\n",
    "        usual_DAG_weights.append(weights_beta_s)\n",
    "        diff = np.linalg.norm(np.dot(A,weights_beta_s)-b)**2\n",
    "    else:\n",
    "        diff = np.linalg.norm(b)**2\n",
    "    usual_DAG_node_weights[u] = (1/n_samples)*diff\n",
    "if usual_DAG_weights != []:\n",
    "    usual_DAG_weights = np.concatenate(usual_DAG_weights)"
   ]
  },
  {
   "cell_type": "code",
   "execution_count": null,
   "id": "45d9a602",
   "metadata": {},
   "outputs": [],
   "source": [
    "# duplicate RDAG weights to compare to uncoloured DAG output\n",
    "node_weights_comparable = np.zeros(n_vertices)\n",
    "node_weights_hat_comparable = np.zeros(n_vertices)\n",
    "for u in G.nodes():\n",
    "    c = G.nodes[u][\"colour\"]\n",
    "    node_weights_comparable[u] = node_weights[c]\n",
    "    node_weights_hat_comparable[u] = node_weights_hat[c]\n",
    "weights_comparable = []\n",
    "weights_hat_comparable = []\n",
    "for u in G.nodes():\n",
    "    weights_u = []\n",
    "    weights_hat_u = []\n",
    "    for v in G.nodes():\n",
    "        if (v,u) in G.edges():\n",
    "            c = G.edges[v,u][\"colour\"]\n",
    "            weights_u.append(weights[c])\n",
    "            weights_hat_u.append(weights_hat[c])\n",
    "    weights_comparable.append(weights_u)\n",
    "    weights_hat_comparable.append(weights_hat_u)\n",
    "weights_comparable = np.concatenate(weights_comparable)\n",
    "weights_hat_comparable = np.concatenate(weights_hat_comparable)"
   ]
  },
  {
   "cell_type": "code",
   "execution_count": null,
   "id": "7686d5fd",
   "metadata": {},
   "outputs": [],
   "source": [
    "# compute distance between MLE and true parameters\n",
    "edge_dist_RDAG = np.linalg.norm(weights_hat_comparable - weights_comparable)**2\n",
    "node_dist_RDAG = np.linalg.norm(node_weights_hat_comparable - node_weights_comparable)**2\n",
    "mle_dist_RDAG = edge_dist_RDAG + node_dist_RDAG\n",
    "edge_dist_DAG = np.linalg.norm(usual_DAG_weights - weights_comparable)**2\n",
    "node_dist_DAG = np.linalg.norm(usual_DAG_node_weights - node_weights_comparable)**2\n",
    "mle_dist_DAG = edge_dist_DAG + node_dist_DAG\n",
    "[mle_dist_RDAG, mle_dist_DAG]"
   ]
  },
 "metadata": {
  "kernelspec": {
   "display_name": "Python 3",
   "language": "python",
   "name": "python3"
  },
  "language_info": {
   "codemirror_mode": {
    "name": "ipython",
    "version": 3
   },
   "file_extension": ".py",
   "mimetype": "text/x-python",
   "name": "python",
   "nbconvert_exporter": "python",
   "pygments_lexer": "ipython3",
   "version": "3.8.5"
  }
 },
 "nbformat": 4,
 "nbformat_minor": 5
}
